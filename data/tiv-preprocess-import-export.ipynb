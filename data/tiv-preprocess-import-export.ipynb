{
 "cells": [
  {
   "cell_type": "markdown",
   "metadata": {},
   "source": [
    "<h1> Preprocessing TIV import and exports </h1>"
   ]
  },
  {
   "cell_type": "code",
   "execution_count": 1,
   "metadata": {},
   "outputs": [
    {
     "name": "stdout",
     "output_type": "stream",
     "text": [
      "Requirement already satisfied: pycountry in /opt/homebrew/lib/python3.11/site-packages (23.12.11)\n",
      "\n",
      "\u001b[1m[\u001b[0m\u001b[34;49mnotice\u001b[0m\u001b[1;39;49m]\u001b[0m\u001b[39;49m A new release of pip is available: \u001b[0m\u001b[31;49m23.2.1\u001b[0m\u001b[39;49m -> \u001b[0m\u001b[32;49m23.3.2\u001b[0m\n",
      "\u001b[1m[\u001b[0m\u001b[34;49mnotice\u001b[0m\u001b[1;39;49m]\u001b[0m\u001b[39;49m To update, run: \u001b[0m\u001b[32;49mpython3.11 -m pip install --upgrade pip\u001b[0m\n",
      "Note: you may need to restart the kernel to use updated packages.\n"
     ]
    }
   ],
   "source": [
    "pip install pycountry"
   ]
  },
  {
   "cell_type": "code",
   "execution_count": 5,
   "metadata": {},
   "outputs": [],
   "source": [
    "import csv\n",
    "import os\n",
    "import pycountry"
   ]
  },
  {
   "cell_type": "code",
   "execution_count": 2,
   "metadata": {},
   "outputs": [],
   "source": [
    "# Country name and ISO code dictionary\n",
    "country_codes = {\n",
    "    \"Bosnia-Herzegovina\": \"BIH\",\n",
    "    \"Brunei\": \"BRN\",\n",
    "    \"Cote d'Ivoire\": \"CIV\",\n",
    "    \"Czechoslovakia\": \"CSK\",\n",
    "    \"DR Congo\": \"DRC\",\n",
    "    \"East Germany (GDR)\": \"DDR\",\n",
    "    \"Iran\": \"IRN\",\n",
    "    \"Moldova\": \"MDA\",\n",
    "    \"North Korea\": \"PRK\",\n",
    "    \"Russia\": \"RUS\",\n",
    "    \"South Korea\": \"KOR\",\n",
    "    \"Taiwan\": \"TWN\",\n",
    "    \"Turkiye\": \"TUR\",\n",
    "    \"UAE\": \"UAE\",\n",
    "    \"Venezuela\": \"VEN\",\n",
    "    \"Yugoslavia\": \"YUG\",\n",
    "}"
   ]
  },
  {
   "cell_type": "code",
   "execution_count": 7,
   "metadata": {},
   "outputs": [],
   "source": [
    "\n",
    "def get_iso3_code(country_name):\n",
    "    try:\n",
    "        country = pycountry.countries.get(name=country_name)\n",
    "        return country.alpha_3\n",
    "    except AttributeError:\n",
    "        return None\n"
   ]
  },
  {
   "cell_type": "code",
   "execution_count": 9,
   "metadata": {},
   "outputs": [
    {
     "name": "stdout",
     "output_type": "stream",
     "text": [
      "Transposed rows with 'Year' and country codes to ISO3 saved to: TIV-Export-All-Country-1950-2022-Refined.csv\n"
     ]
    }
   ],
   "source": [
    "# Specify the path to your input CSV file\n",
    "input_csv_path = 'TIV-Export-All-Country-1950-2022.csv'\n",
    "\n",
    "# Get the directory of the input file\n",
    "input_dir = os.path.dirname(input_csv_path)\n",
    "\n",
    "# Create the path for the output CSV file in the same directory\n",
    "output_csv_path = os.path.join(input_dir, 'TIV-Export-All-Country-1950-2022-Refined.csv')\n",
    "\n",
    "# Open the input file in read mode\n",
    "with open(input_csv_path, 'r') as input_file:\n",
    "    # Create a CSV reader object\n",
    "    csv_reader = csv.reader(input_file)\n",
    "\n",
    "    # Skip the first 10 lines\n",
    "    for _ in range(10):\n",
    "        next(csv_reader)\n",
    "\n",
    "    # Collect non-empty rows\n",
    "    non_empty_rows = [row for row in csv_reader if any(row)]\n",
    "\n",
    "# Set the first column of the first row as \"Year\" if it is empty\n",
    "if non_empty_rows and not non_empty_rows[0][0]:\n",
    "    non_empty_rows[0][0] = \"Year\"\n",
    "\n",
    "# Transpose the rows to columns\n",
    "transposed_rows = list(map(list, zip(*non_empty_rows)))\n",
    "\n",
    "# Skip the last row if the list is not empty\n",
    "if transposed_rows:\n",
    "    transposed_rows.pop()\n",
    "\n",
    "first_row = transposed_rows[0]\n",
    "# # Convert country codes to ISO3 codes\n",
    "for row in transposed_rows[0:]:\n",
    "    unsuccessful_conversions = []\n",
    "    for i, country_name in enumerate(row[1:]):\n",
    "        if country_name:\n",
    "            # print(country_name)\n",
    "            iso3_code = get_iso3_code(country_name)\n",
    "            if iso3_code:\n",
    "                row[i + 1] = iso3_code\n",
    "            else:\n",
    "                row[i + 1] = country_codes.get(country_name) if country_codes.get(country_name) else country_name\n",
    "                # Keep track of unsuccessful conversions\n",
    "                if country_codes.get(country_name) is None:\n",
    "                    unsuccessful_conversions.append(country_name)\n",
    "\n",
    "# Open the output file in write mode\n",
    "with open(output_csv_path, 'w', newline='') as output_file:\n",
    "    # Create a CSV writer object\n",
    "    csv_writer = csv.writer(output_file)\n",
    "\n",
    "    # Write the non-empty rows to the output file\n",
    "    csv_writer.writerows(transposed_rows)\n",
    "\n",
    "print(f\"Transposed rows with 'Year' and country codes to ISO3 saved to: {output_csv_path}\")"
   ]
  },
  {
   "cell_type": "code",
   "execution_count": 10,
   "metadata": {},
   "outputs": [
    {
     "name": "stdout",
     "output_type": "stream",
     "text": [
      "Transposed rows with 'Year' and country codes to ISO3 saved to: TIV-Import-All-Country-1950-2022-Refined.csv\n"
     ]
    }
   ],
   "source": [
    "# Specify the path to your input CSV file\n",
    "input_csv_path = 'TIV-Import-All-Country-1950-2022.csv'\n",
    "\n",
    "# Get the directory of the input file\n",
    "input_dir = os.path.dirname(input_csv_path)\n",
    "\n",
    "# Create the path for the output CSV file in the same directory\n",
    "output_csv_path = os.path.join(input_dir, 'TIV-Import-All-Country-1950-2022-Refined.csv')\n",
    "\n",
    "# Open the input file in read mode\n",
    "with open(input_csv_path, 'r') as input_file:\n",
    "    # Create a CSV reader object\n",
    "    csv_reader = csv.reader(input_file)\n",
    "\n",
    "    # Skip the first 10 lines\n",
    "    for _ in range(10):\n",
    "        next(csv_reader)\n",
    "\n",
    "    # Collect non-empty rows\n",
    "    non_empty_rows = [row for row in csv_reader if any(row)]\n",
    "\n",
    "# Set the first column of the first row as \"Year\" if it is empty\n",
    "if non_empty_rows and not non_empty_rows[0][0]:\n",
    "    non_empty_rows[0][0] = \"Year\"\n",
    "\n",
    "# Transpose the rows to columns\n",
    "transposed_rows = list(map(list, zip(*non_empty_rows)))\n",
    "\n",
    "# Skip the last row if the list is not empty\n",
    "if transposed_rows:\n",
    "    transposed_rows.pop()\n",
    "\n",
    "first_row = transposed_rows[0]\n",
    "# # Convert country codes to ISO3 codes\n",
    "for row in transposed_rows[0:]:\n",
    "    unsuccessful_conversions = []\n",
    "    for i, country_name in enumerate(row[1:]):\n",
    "        if country_name:\n",
    "            # print(country_name)\n",
    "            iso3_code = get_iso3_code(country_name)\n",
    "            if iso3_code:\n",
    "                row[i + 1] = iso3_code\n",
    "            else:\n",
    "                row[i + 1] = country_codes.get(country_name) if country_codes.get(country_name) else country_name\n",
    "                # Keep track of unsuccessful conversions\n",
    "                if country_codes.get(country_name) is None:\n",
    "                    unsuccessful_conversions.append(country_name)\n",
    "\n",
    "# Open the output file in write mode\n",
    "with open(output_csv_path, 'w', newline='') as output_file:\n",
    "    # Create a CSV writer object\n",
    "    csv_writer = csv.writer(output_file)\n",
    "\n",
    "    # Write the non-empty rows to the output file\n",
    "    csv_writer.writerows(transposed_rows)\n",
    "\n",
    "print(f\"Transposed rows with 'Year' and country codes to ISO3 saved to: {output_csv_path}\")"
   ]
  }
 ],
 "metadata": {
  "kernelspec": {
   "display_name": "Python 3",
   "language": "python",
   "name": "python3"
  },
  "language_info": {
   "codemirror_mode": {
    "name": "ipython",
    "version": 3
   },
   "file_extension": ".py",
   "mimetype": "text/x-python",
   "name": "python",
   "nbconvert_exporter": "python",
   "pygments_lexer": "ipython3",
   "version": "3.11.6"
  },
  "orig_nbformat": 4
 },
 "nbformat": 4,
 "nbformat_minor": 2
}
