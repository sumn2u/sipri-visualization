{
 "cells": [
  {
   "cell_type": "code",
   "execution_count": 84,
   "metadata": {},
   "outputs": [
    {
     "name": "stderr",
     "output_type": "stream",
     "text": [
      "/opt/homebrew/lib/python3.11/site-packages/openpyxl/styles/stylesheet.py:226: UserWarning: Workbook contains no default style, apply openpyxl's default\n",
      "  warn(\"Workbook contains no default style, apply openpyxl's default\")\n"
     ]
    }
   ],
   "source": [
    "import pandas as pd\n",
    "\n",
    "# Replace 'your_file.xlsx' with the path to your Excel file\n",
    "excel_file_path = 'SIPRI-Milex-data-1949-2022.xlsx'\n",
    "\n",
    "# Read the Excel file into a DataFrame\n",
    "df = pd.read_excel(excel_file_path, sheet_name='Regional totals', header=None)  # Replace 'Sheet1' with your sheet name\n",
    "\n"
   ]
  },
  {
   "cell_type": "code",
   "execution_count": 85,
   "metadata": {},
   "outputs": [
    {
     "name": "stdout",
     "output_type": "stream",
     "text": [
      "                                                  0   1   2   3    4   5   6   \\\n",
      "0  Military expenditure by region in constant US ... NaN NaN NaN  NaN NaN NaN   \n",
      "1  Figures are in US$ b., at constant 2021 prices... NaN NaN NaN  NaN NaN NaN   \n",
      "2  Figures do not always add up to totals because... NaN NaN NaN  NaN NaN NaN   \n",
      "3  Figures in red indicate that more than 10% of ... NaN NaN NaN  NaN NaN NaN   \n",
      "4  The symbol \". .\" indicates that data is unavai... NaN NaN NaN  NaN NaN NaN   \n",
      "\n",
      "   7   8   9   ...  29  30  31  32  33  34  35   36  37   38  \n",
      "0 NaN NaN NaN  ... NaN NaN NaN NaN NaN NaN NaN  NaN NaN  NaN  \n",
      "1 NaN NaN NaN  ... NaN NaN NaN NaN NaN NaN NaN  NaN NaN  NaN  \n",
      "2 NaN NaN NaN  ... NaN NaN NaN NaN NaN NaN NaN  NaN NaN  NaN  \n",
      "3 NaN NaN NaN  ... NaN NaN NaN NaN NaN NaN NaN  NaN NaN  NaN  \n",
      "4 NaN NaN NaN  ... NaN NaN NaN NaN NaN NaN NaN  NaN NaN  NaN  \n",
      "\n",
      "[5 rows x 39 columns]\n"
     ]
    }
   ],
   "source": [
    "# Now, you can work with the data in 'desired_sheet_data'\n",
    "print(df.head())"
   ]
  },
  {
   "cell_type": "code",
   "execution_count": 86,
   "metadata": {},
   "outputs": [],
   "source": [
    "# Remove the first 13 rows\n",
    "df = df.iloc[11:]\n",
    "# Now, df contains the data without the first 13 rows\n",
    "\n",
    "# If you want to reset the index after dropping rows\n",
    "df.reset_index(drop=True, inplace=True)"
   ]
  },
  {
   "cell_type": "code",
   "execution_count": 87,
   "metadata": {},
   "outputs": [
    {
     "name": "stdout",
     "output_type": "stream",
     "text": [
      "                                                  0            1   \\\n",
      "0  4) The set of countries excluded from the tota...          NaN   \n",
      "1                                                NaN          NaN   \n",
      "2                                             Region  1988.000000   \n",
      "3                                              World  1602.114648   \n",
      "4                                             Africa    16.220427   \n",
      "\n",
      "            2            3          4            5            6            7   \\\n",
      "0          NaN          NaN        NaN          NaN          NaN          NaN   \n",
      "1          NaN          NaN        NaN          NaN          NaN          NaN   \n",
      "2  1989.000000  1990.000000       1991  1992.000000  1993.000000  1994.000000   \n",
      "3  1584.149394  1526.849064        ...  1287.923872  1234.527911  1243.847092   \n",
      "4    16.289293    16.336442  14.424379    13.388957    15.201963    60.134767   \n",
      "\n",
      "           8            9   ...           29           30           31  \\\n",
      "0         NaN          NaN  ...          NaN          NaN          NaN   \n",
      "1         NaN          NaN  ...          NaN          NaN          NaN   \n",
      "2  1995.00000  1996.000000  ...  2016.000000  2017.000000  2018.000000   \n",
      "3  1162.89652  1111.551007  ...  1871.667592  1893.086162  1950.160452   \n",
      "4    36.10194    12.518952  ...    38.596849    37.613867    36.310618   \n",
      "\n",
      "            32           33           34           35                     36  \\\n",
      "0          NaN          NaN          NaN          NaN                    NaN   \n",
      "1          NaN          NaN          NaN          NaN                    NaN   \n",
      "2  2019.000000  2020.000000  2021.000000  2022.000000  2022 (current prices)   \n",
      "3  2028.619652  2091.927010  2104.065982  2181.920961            2239.870817   \n",
      "4    37.242019    38.986284    39.996108    37.867271              39.374877   \n",
      "\n",
      "   37                          38  \n",
      "0 NaN                         NaN  \n",
      "1 NaN                         NaN  \n",
      "2 NaN           Omitted countries  \n",
      "3 NaN                         NaN  \n",
      "4 NaN  Djibouti, Eritrea, Somalia  \n",
      "\n",
      "[5 rows x 39 columns]\n"
     ]
    }
   ],
   "source": [
    "\n",
    "# Now, you can work with the data in 'desired_sheet_data'\n",
    "print(df.head())"
   ]
  },
  {
   "cell_type": "code",
   "execution_count": 78,
   "metadata": {},
   "outputs": [
    {
     "name": "stdout",
     "output_type": "stream",
     "text": [
      "Existing columns: Int64Index([ 0,  1,  2,  3,  4,  5,  6,  7,  8,  9, 10, 11, 12, 13, 14, 15, 16,\n",
      "            17, 18, 19, 20, 21, 22, 23, 24, 25, 26, 27, 28, 29, 30, 31, 32, 33,\n",
      "            34, 35, 36, 37, 38],\n",
      "           dtype='int64')\n"
     ]
    }
   ],
   "source": [
    "# Display the current column names\n",
    "print(\"Existing columns:\", df.columns)\n"
   ]
  },
  {
   "cell_type": "code",
   "execution_count": 105,
   "metadata": {},
   "outputs": [],
   "source": [
    "# Define a function to remove last, second-last, and third-last elements in each row  2022 (current prices), blank and Omitted countries \n",
    "def remove_last_elements(row):\n",
    "    return row.iloc[:-3].tolist()\n",
    "\n",
    "# Apply the custom function to each row\n",
    "df = pd.DataFrame(df.apply(remove_last_elements, axis=1).tolist())\n",
    "\n",
    "# Reset the index if needed\n",
    "df.reset_index(drop=True, inplace=True)\n"
   ]
  },
  {
   "cell_type": "code",
   "execution_count": 106,
   "metadata": {},
   "outputs": [
    {
     "name": "stdout",
     "output_type": "stream",
     "text": [
      "                0            1            2            3           4   \\\n",
      "2           Region  1988.000000  1989.000000  1990.000000        1991   \n",
      "3            World  1602.114648  1584.149394  1526.849064         ...   \n",
      "4           Africa    16.220427    16.289293    16.336442   14.424379   \n",
      "7         Americas   761.570284   753.962990   720.280096  637.136669   \n",
      "11  Asia & Oceania   142.364304   149.774377   156.782954    159.6096   \n",
      "17          Europe   615.578253   600.993269   545.480052         ...   \n",
      "21     Middle East    66.381381    63.129464    87.969521   97.638297   \n",
      "\n",
      "             5            6            7            8            9   ...  \\\n",
      "2   1992.000000  1993.000000  1994.000000  1995.000000  1996.000000  ...   \n",
      "3   1287.923872  1234.527911  1243.847092  1162.896520  1111.551007  ...   \n",
      "4     13.388957    15.201963    60.134767    36.101940    12.518952  ...   \n",
      "7    667.886375   637.638277   609.404506   573.627249   544.139430  ...   \n",
      "11   167.216444   171.114586   172.185882   177.142871   181.573291  ...   \n",
      "17   356.862281   332.801020   326.080921   303.069902   301.184586  ...   \n",
      "21    82.569815    77.772065    76.041015    72.954559    72.134748  ...   \n",
      "\n",
      "             26           27           28           29           30  \\\n",
      "2   2013.000000  2014.000000  2015.000000  2016.000000  2017.000000   \n",
      "3   1838.842350  1834.008227  1862.010987  1871.667592  1893.086162   \n",
      "4     40.451147    42.409920    40.542074    38.596849    37.613867   \n",
      "7    860.549671   812.959867   798.047897   794.817380   793.592397   \n",
      "11   410.487797   432.308056   457.150800   481.119817   502.712236   \n",
      "17   344.603116   348.400116   357.440363   369.176994   362.061065   \n",
      "21   182.750619   197.930268   208.829852   187.956552   197.106597   \n",
      "\n",
      "             31           32           33           34           35  \n",
      "2   2018.000000  2019.000000  2020.000000  2021.000000  2022.000000  \n",
      "3   1950.160452  2028.619652  2091.927010  2104.065982  2181.920961  \n",
      "4     36.310618    37.242019    38.986284    39.996108    37.867271  \n",
      "7    816.716059   858.320882   897.711190   888.417003   891.050143  \n",
      "11   523.044350   549.008714   567.834941   580.437282   595.900769  \n",
      "17   368.355646   387.264540   407.922814   420.706067   477.040428  \n",
      "21   205.733779   196.783497   179.471781   174.509522   180.062349  \n",
      "\n",
      "[7 rows x 36 columns]\n"
     ]
    }
   ],
   "source": [
    "# Define a list of values you want to keep in the 'Region' column\n",
    "desired_values = ['Region', 'World', 'Africa', 'Americas', 'Asia & Oceania', 'Europe', 'Middle East']\n",
    "\n",
    "# Select rows where the first column values match the specified set\n",
    "selected_rows = df[df.iloc[:, 0].isin(desired_values)]\n",
    "\n",
    "\n",
    "# Display the resulting selected rows\n",
    "print(selected_rows)"
   ]
  },
  {
   "cell_type": "code",
   "execution_count": 107,
   "metadata": {},
   "outputs": [
    {
     "name": "stdout",
     "output_type": "stream",
     "text": [
      "RangeIndex(start=0, stop=36, step=1)\n"
     ]
    }
   ],
   "source": [
    "# Find the index of the '2022 (current prices)' column\n",
    "print(selected_rows.columns)"
   ]
  },
  {
   "cell_type": "code",
   "execution_count": 108,
   "metadata": {},
   "outputs": [
    {
     "name": "stdout",
     "output_type": "stream",
     "text": [
      "                0            1            2            3           4   \\\n",
      "2           Region  1988.000000  1989.000000  1990.000000        1991   \n",
      "3            World  1602.114648  1584.149394  1526.849064         ...   \n",
      "4           Africa    16.220427    16.289293    16.336442   14.424379   \n",
      "7         Americas   761.570284   753.962990   720.280096  637.136669   \n",
      "11  Asia & Oceania   142.364304   149.774377   156.782954    159.6096   \n",
      "17          Europe   615.578253   600.993269   545.480052         ...   \n",
      "21     Middle East    66.381381    63.129464    87.969521   97.638297   \n",
      "\n",
      "             5            6            7            8            9   ...  \\\n",
      "2   1992.000000  1993.000000  1994.000000  1995.000000  1996.000000  ...   \n",
      "3   1287.923872  1234.527911  1243.847092  1162.896520  1111.551007  ...   \n",
      "4     13.388957    15.201963    60.134767    36.101940    12.518952  ...   \n",
      "7    667.886375   637.638277   609.404506   573.627249   544.139430  ...   \n",
      "11   167.216444   171.114586   172.185882   177.142871   181.573291  ...   \n",
      "17   356.862281   332.801020   326.080921   303.069902   301.184586  ...   \n",
      "21    82.569815    77.772065    76.041015    72.954559    72.134748  ...   \n",
      "\n",
      "             26           27           28           29           30  \\\n",
      "2   2013.000000  2014.000000  2015.000000  2016.000000  2017.000000   \n",
      "3   1838.842350  1834.008227  1862.010987  1871.667592  1893.086162   \n",
      "4     40.451147    42.409920    40.542074    38.596849    37.613867   \n",
      "7    860.549671   812.959867   798.047897   794.817380   793.592397   \n",
      "11   410.487797   432.308056   457.150800   481.119817   502.712236   \n",
      "17   344.603116   348.400116   357.440363   369.176994   362.061065   \n",
      "21   182.750619   197.930268   208.829852   187.956552   197.106597   \n",
      "\n",
      "             31           32           33           34           35  \n",
      "2   2018.000000  2019.000000  2020.000000  2021.000000  2022.000000  \n",
      "3   1950.160452  2028.619652  2091.927010  2104.065982  2181.920961  \n",
      "4     36.310618    37.242019    38.986284    39.996108    37.867271  \n",
      "7    816.716059   858.320882   897.711190   888.417003   891.050143  \n",
      "11   523.044350   549.008714   567.834941   580.437282   595.900769  \n",
      "17   368.355646   387.264540   407.922814   420.706067   477.040428  \n",
      "21   205.733779   196.783497   179.471781   174.509522   180.062349  \n",
      "\n",
      "[7 rows x 36 columns]\n"
     ]
    }
   ],
   "source": [
    "print(selected_rows)"
   ]
  },
  {
   "cell_type": "code",
   "execution_count": 109,
   "metadata": {},
   "outputs": [],
   "source": [
    "# Export the new data to a CSV file\n",
    "selected_rows.to_csv('regional_data.csv', index=False, header=False)"
   ]
  }
 ],
 "metadata": {
  "kernelspec": {
   "display_name": "Python 3",
   "language": "python",
   "name": "python3"
  },
  "language_info": {
   "codemirror_mode": {
    "name": "ipython",
    "version": 3
   },
   "file_extension": ".py",
   "mimetype": "text/x-python",
   "name": "python",
   "nbconvert_exporter": "python",
   "pygments_lexer": "ipython3",
   "version": "3.11.6"
  },
  "orig_nbformat": 4
 },
 "nbformat": 4,
 "nbformat_minor": 2
}
